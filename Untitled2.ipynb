{
 "cells": [
  {
   "cell_type": "code",
   "execution_count": 25,
   "id": "bd59cf04-a231-43a2-bffe-7f1812a934dc",
   "metadata": {},
   "outputs": [],
   "source": [
    "import pandas as pd\n",
    "import numpy as np"
   ]
  },
  {
   "cell_type": "code",
   "execution_count": 27,
   "id": "8fbc3768-0c0b-4420-a467-2bb6b0136b7b",
   "metadata": {},
   "outputs": [],
   "source": [
    "df = pd.read_csv('D:/Data Science/car-sales-extended-missing-data.csv')"
   ]
  },
  {
   "cell_type": "code",
   "execution_count": 29,
   "id": "0d0cf966-a9a8-46af-a2df-621faea64091",
   "metadata": {},
   "outputs": [
    {
     "name": "stdout",
     "output_type": "stream",
     "text": [
      "Original Data:\n",
      "     Make Colour  Odometer (KM)  Doors    Price\n",
      "0   Honda  White        35431.0    4.0  15323.0\n",
      "1     BMW   Blue       192714.0    5.0  19943.0\n",
      "2   Honda  White        84714.0    4.0  28343.0\n",
      "3  Toyota  White       154365.0    4.0  13434.0\n",
      "4  Nissan   Blue       181577.0    3.0  14043.0\n"
     ]
    }
   ],
   "source": [
    "print(\"Original Data:\")\n",
    "print(df.head())"
   ]
  },
  {
   "cell_type": "code",
   "execution_count": 31,
   "id": "db214829-ded2-430c-8fb4-e113adde25d9",
   "metadata": {},
   "outputs": [
    {
     "name": "stdout",
     "output_type": "stream",
     "text": [
      "\n",
      "After Ordinal Encoding:\n",
      "  Colour  category_ordinal\n",
      "0  White                 4\n",
      "1   Blue                 1\n",
      "2  White                 4\n",
      "3  White                 4\n",
      "4   Blue                 1\n"
     ]
    }
   ],
   "source": [
    "df['category_ordinal'] = df['Colour'].astype('category').cat.codes\n",
    "\n",
    "print(\"\\nAfter Ordinal Encoding:\")\n",
    "print(df[['Colour', 'category_ordinal']].head())"
   ]
  },
  {
   "cell_type": "code",
   "execution_count": 33,
   "id": "e1eb13c2-9ee2-473b-a8e9-0ef109c45809",
   "metadata": {},
   "outputs": [],
   "source": [
    "#ONEHOT\n",
    "df_onehot = pd.get_dummies(df['Colour'], prefix='category')\n",
    "\n",
    "\n",
    "df = pd.concat([df, df_onehot], axis=1)"
   ]
  },
  {
   "cell_type": "code",
   "execution_count": 35,
   "id": "c14e9fba-c446-4b8f-9291-18c95cd6a8f2",
   "metadata": {},
   "outputs": [
    {
     "name": "stdout",
     "output_type": "stream",
     "text": [
      "\n",
      "After One-Hot Encoding:\n",
      "     Make Colour  Odometer (KM)  Doors    Price  category_ordinal  \\\n",
      "0   Honda  White        35431.0    4.0  15323.0                 4   \n",
      "1     BMW   Blue       192714.0    5.0  19943.0                 1   \n",
      "2   Honda  White        84714.0    4.0  28343.0                 4   \n",
      "3  Toyota  White       154365.0    4.0  13434.0                 4   \n",
      "4  Nissan   Blue       181577.0    3.0  14043.0                 1   \n",
      "\n",
      "   category_Black  category_Blue  category_Green  category_Red  category_White  \n",
      "0           False          False           False         False            True  \n",
      "1           False           True           False         False           False  \n",
      "2           False          False           False         False            True  \n",
      "3           False          False           False         False            True  \n",
      "4           False           True           False         False           False  \n"
     ]
    }
   ],
   "source": [
    "print(\"\\nAfter One-Hot Encoding:\")\n",
    "print(df.head())"
   ]
  },
  {
   "cell_type": "code",
   "execution_count": null,
   "id": "66dacddc-0857-4d20-b85f-bd6b8589ed5d",
   "metadata": {},
   "outputs": [],
   "source": []
  }
 ],
 "metadata": {
  "kernelspec": {
   "display_name": "Python 3 (ipykernel)",
   "language": "python",
   "name": "python3"
  },
  "language_info": {
   "codemirror_mode": {
    "name": "ipython",
    "version": 3
   },
   "file_extension": ".py",
   "mimetype": "text/x-python",
   "name": "python",
   "nbconvert_exporter": "python",
   "pygments_lexer": "ipython3",
   "version": "3.12.4"
  }
 },
 "nbformat": 4,
 "nbformat_minor": 5
}
